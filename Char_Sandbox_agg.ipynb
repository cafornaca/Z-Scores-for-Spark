{
 "cells": [
  {
   "cell_type": "code",
   "execution_count": 2,
   "metadata": {},
   "outputs": [
    {
     "data": {
      "text/html": [
       "<style scoped>\n",
       "  .ansiout {\n",
       "    display: block;\n",
       "    unicode-bidi: embed;\n",
       "    white-space: pre-wrap;\n",
       "    word-wrap: break-word;\n",
       "    word-break: break-all;\n",
       "    font-family: \"Source Code Pro\", \"Menlo\", monospace;;\n",
       "    font-size: 13px;\n",
       "    color: #555;\n",
       "    margin-left: 4px;\n",
       "    line-height: 19px;\n",
       "  }\n",
       "</style>\n",
       "<div class=\"ansiout\"></div>"
      ]
     },
     "metadata": {},
     "output_type": "display_data"
    }
   ],
   "source": [
    "from pyspark.sql import *\n",
    "from pyspark.sql.functions import *\n",
    "from pyspark.sql.types import *\n",
    "import numpy as np\n",
    "from scipy import stats"
   ]
  },
  {
   "cell_type": "code",
   "execution_count": 4,
   "metadata": {},
   "outputs": [],
   "source": [
    "def col_mode(df, col_name):\n",
    "mode_df = df.select(df[col_name].alias('observed')).withColumn('count', lit(1))\n",
    "agg_mode = mode_df.groupBy('observed').agg(count(lit(1)).alias('count'))\n",
    "\n",
    "# If there are multiple selections with the same mode, it will show all:\n",
    "# agg_mode.groupBy('observed').agg(max('count')).show()\n",
    "\n",
    "# If there are multiple selections with the same mode, it will pick the first:\n",
    "agg_mode.groupBy('observed').agg(first('observed'), (max('count'))).show()"
   ]
  },
  {
   "cell_type": "code",
   "execution_count": 5,
   "metadata": {},
   "outputs": [],
   "source": [
    "null_opt = ['Negatives', 'NaN', 'null']\n",
    "dbutils.widgets.multiselect('Denote Nulls', 'null', null_opt)\n",
    "null_list = dbutils.widgets.get('Denote Nulls')\n",
    "\n",
    "def col_non_null(df, col_name):\n",
    "  non_null_total = 0\n",
    "  filtered_df = df.select(df[col_name].alias('observed') )\n",
    "  for each_null in null_list:\n",
    "    if each_null == 'Negatives': filtered_df = filtered_df.select(filtered_df['observed'] >= 0)\n",
    "    if each_null == 'NaN': filtered_df = filtered_df.select(filtered_df['observed'] != 'nan')\n",
    "    if each_null == 'null': filtered_df = filtered_df.select(filtered_df['observed'] != 'null')\n",
    "  non_null_total = filtered_df.count()\n",
    "  return non_null_total"
   ]
  },
  {
   "cell_type": "code",
   "execution_count": 6,
   "metadata": {},
   "outputs": [],
   "source": [
    "# Normal random variable y\n",
    "# x is supposed to be a random variable \n",
    "e = 2.71828\n",
    "pi = 3.14159\n",
    "y = ( (1/stddev) * (sqrt(2 * pi)) ) * (e**( ((x - mean)**2) / (2(stddev**2)) ))"
   ]
  },
  {
   "cell_type": "code",
   "execution_count": 7,
   "metadata": {},
   "outputs": [],
   "source": [
    "def col_skew(df, col_name): \n",
    "  skew_z = col_zscores(df, col_name)\n",
    "  skew_val = skew_z.agg(avg(skew_z['z-cubed'])).collect()\n",
    "  return skew_val"
   ]
  },
  {
   "cell_type": "code",
   "execution_count": 8,
   "metadata": {},
   "outputs": [],
   "source": [
    "def col_zscores(df, col_name):\n",
    "  z_mean= col_mean(df, col_name)\n",
    "  z_sd = col_stdev(df, col_name)\n",
    "  z_df = df.select(df[col_name]).withColumn('m', lit(z_mean)).withColumn('sd', lit(z_sd))\n",
    "  z_df = z_df.withColumn('z-score',(z_df[col_name]-z_df['m'])/z_df['sd'])\n",
    "  z_df = z_df.select(z_df[col_name], z_df['z-score'])\n",
    "  z_df = z_df.withColumn('z-cubed', z_df['z-score'] ** 3)\n",
    "  z_df = z_df.withColumn('z-quartic', z_df['z-score'] ** 4)\n",
    "  return z_df"
   ]
  },
  {
   "cell_type": "markdown",
   "metadata": {},
   "source": [
    "* Implicit ordering depending which functions call on others; that way we don't have to re-call functions inside functions.\n",
    "* .na function to get all NA's."
   ]
  }
 ],
 "metadata": {
  "kernelspec": {
   "display_name": "Python 3",
   "language": "python",
   "name": "python3"
  },
  "language_info": {
   "codemirror_mode": {
    "name": "ipython",
    "version": 3
   },
   "file_extension": ".py",
   "mimetype": "text/x-python",
   "name": "python",
   "nbconvert_exporter": "python",
   "pygments_lexer": "ipython3",
   "version": "3.7.1"
  },
  "name": "Char_Sandbox_00",
  "notebookId": 605402212744885
 },
 "nbformat": 4,
 "nbformat_minor": 1
}
