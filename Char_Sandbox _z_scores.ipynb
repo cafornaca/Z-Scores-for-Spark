{
 "cells": [
  {
   "cell_type": "markdown",
   "metadata": {},
   "source": [
    "## The Z-Score Zone\n",
    "---\n",
    "* col_make_std_zscores\n",
    "* col_make_mod_zscores\n",
    "---\n",
    "* col_get_std_zscores\n",
    "* col_get_mod_zscores\n",
    "---\n",
    "* col_get_std_zscores\n",
    "* col_get_mod_zscores\n",
    "---\n",
    "* get_z_outliers\n",
    "* get_mod_outliers\n",
    "---\n",
    "* remove_z_outliers\n",
    "* remove_mod_outliers"
   ]
  },
  {
   "cell_type": "code",
   "execution_count": null,
   "metadata": {},
   "outputs": [],
   "source": [
    "# Make a standard z-score table with associated column values:\n",
    "def col_make_std_zscores(df, col_name):\n",
    "  '''\n",
    "  This helper function gets standard z-scores of the df column for later use (finding outliers). Uses mean and stddev.\n",
    "  '''\n",
    "  z_mean= col_mean(df, col_name)\n",
    "  z_sd = col_stddev(df, col_name)\n",
    "  z_df = df.select(col_name).withColumn('z_score', (df[col_name] - z_mean) / z_sd )\n",
    "  return z_df\n",
    "\n",
    "\n",
    "# Make a modified z-score table with associated column values:\n",
    "def col_make_mod_zscores(df, col_name):\n",
    "  '''\n",
    "  This helper function gets the more robust modified z-scores of the df column for later use (finding outliers). Uses median and mad. \n",
    "  0.6745 is a constant used in calculating modified z-scores.\n",
    "  '''\n",
    "  z_med = col_median(df, col_name)\n",
    "  z_mad = col_median_absolute_deviation(df, col_name)\n",
    "  mod_z_df = df.select(df[col_name]).withColumn('mod_z_score', ((0.6745 * (df[col_name] - z_med )) / z_mad ))\n",
    "  return mod_z_df"
   ]
  },
  {
   "cell_type": "code",
   "execution_count": null,
   "metadata": {},
   "outputs": [],
   "source": [
    "# Get min and max standard z-scores from the std z-score table:\n",
    "def col_get_std_zscores(df,col_name):\n",
    "  '''\n",
    "  This function returns the min and max z-scores found in a column. \n",
    "  '''\n",
    "  z_df = col_make_std_zscores(df, col_name)\n",
    "  return col_min(z_df, 'z_score'),col_max(z_df, 'z_score')\n",
    "\n",
    "\n",
    "# Get min and max modified z-scores from the mod z-score table:\n",
    "def col_get_mod_zscores(df, col_name):\n",
    "  '''\n",
    "  This function returns the min and max modified z-scores found in a column. \n",
    "  '''\n",
    "  mod_z_df = col_make_mod_zscores(df, col_name)\n",
    "  return col_min(mod_z_df, 'mod_z_score'), col_max(mod_z_df, 'mod_z_score')"
   ]
  },
  {
   "cell_type": "code",
   "execution_count": null,
   "metadata": {},
   "outputs": [],
   "source": [
    "# Get the values associated with min and max standard z-scores:\n",
    "def col_get_z_vals(df, col_name):\n",
    "  z_df = col_make_std_zscores(df, col_name)\n",
    "  \n",
    "  z_min_val = z_df.select(z_df[col_name]).filter(z_df[z_score] == col_min(z_df, 'z_score')).first()[0]\n",
    "  \n",
    "  z_max_val = z_df.select(z_df[col_name]).filter(z_df[z_score] == col_max(z_df, 'z_score')).first()[0]\n",
    "  \n",
    "  return z_min_val, z_max_val\n",
    "\n",
    "# Get the values associated with min and max modified z-scores:\n",
    "def col_get_mod_z_vals(df, col_name):\n",
    "  mod_z_df = col_make_mod_zscores(df, col_name) \n",
    "  mod_min_val = mod_z_df.select(mod_z_df[col_name]).filter(mod_z_df[z_score] == col_min(mod_z_df, 'mod_z_score')).first()[0]\n",
    "  mod_max_val = mod_z_df.select(mod_z_df[col_name]).filter(mod_z_df[z_score] == col_max(mod_z_df, 'mod_z_score')).first()[0]\n",
    "  return mod_min_val, mod_max_val"
   ]
  },
  {
   "cell_type": "code",
   "execution_count": null,
   "metadata": {},
   "outputs": [],
   "source": [
    "def get_z_outliers(df, col_name,threshold=3.0):\n",
    "  '''\n",
    "  Less robust z-score outlier detection using mean and sd.\n",
    "  This function returns a dataframe of outliers.\n",
    "  Default threshold = 3.0 for standard outlier-finding using z-scores.\n",
    "  '''\n",
    "  z_df = col_make_std_zscores(df, col_name)\n",
    "  z_outliers = z_df.select(z_df).filter(abs(z_df['z_score']) > threshold)\n",
    "  return z_outliers\n",
    "  \n",
    "def get_mod_outliers(df, col_name,threshold=3.5):\n",
    "  '''\n",
    "  More robust z-score outlier detection using mad.\n",
    "  This function returns a dataframe of outliers.\n",
    "  Default threshold = 3.5 for modified z-score outlier-finding.\n",
    "  '''\n",
    "  mod_z_df = col_make_mod_zscores(df, col_name)\n",
    "  mod_outliers = mod_z_df.select(z_df).filter(abs(['mod_z_score']) > threshold))\n",
    "  return mod_outliers\n",
    "\n",
    "\n",
    "abs(col(col_name)- median)"
   ]
  },
  {
   "cell_type": "code",
   "execution_count": null,
   "metadata": {},
   "outputs": [],
   "source": [
    "# Returns the column after it has had standard z-score outliers removed:\n",
    "def remove_z_outliers(df, col_name,threshold=3.0):\n",
    "  '''\n",
    "  Less robust z-score outlier detection using mean and sd.\n",
    "  This function returns the column after removing outliers.\n",
    "  Default threshold = 3.0 for standard outlier-finding using z-scores.\n",
    "  '''\n",
    "  z_min, z_max = col_get_z_vals(df, col_name)\n",
    "  z_df = col_make_std_zscores(df, col_name)\n",
    "  clean_z_df = z_df.select(z_df[col_name]).filter(z_df['z_score'] < z_max).filter(z_df['z_score'] > z_min)\n",
    "  return clean_z_df\n",
    "\n",
    "\n",
    "# Returns the column after it has had modified z-score outliers removed:\n",
    "def remove_mod_outliers(df, col_name,threshold=3.5):\n",
    "  '''\n",
    "  More robust z-score outlier detection using mad.\n",
    "  This function returns the column after removing outliers.\n",
    "  Default threshold = 3.5 for modified z-score outlier-finding.\n",
    "  ''' \n",
    "  mod_min, mod_max = col_get_mod_z_vals(df, col_name)\n",
    "  mod_z_df = col_make_mod_zscores(df, col_name)\n",
    "  clean_mod_df = mod_z_df.select(mod_z_df[col_name]).filter(mod_z_df['mod_z_score'] < mod_max).filter(mod_z_df['mod_z_score'] > mod_min)\n",
    "  return clean_mod_df"
   ]
  },
  {
   "cell_type": "markdown",
   "metadata": {},
   "source": [
    "## Testing Zone:"
   ]
  },
  {
   "cell_type": "code",
   "execution_count": null,
   "metadata": {},
   "outputs": [],
   "source": [
    "# 1\n",
    "print(\"Z-score tables:\")\n",
    "col_make_std_zscores(df, col_name).show(5)\n",
    "col_make_mod_zscores(df, col_name).show(5)"
   ]
  },
  {
   "cell_type": "code",
   "execution_count": null,
   "metadata": {},
   "outputs": [],
   "source": [
    "# 2\n",
    "print(\"Min and max z-scores:\")\n",
    "print(col_get_std_zscores(df, col_name))\n",
    "print(col_get_mod_zscores(df, col_name))"
   ]
  },
  {
   "cell_type": "code",
   "execution_count": null,
   "metadata": {},
   "outputs": [],
   "source": [
    "# 3\n",
    "print(\"Associated values from min and max z-scores:\")\n",
    "print(col_get_std_zscores(df, col_name))\n",
    "print(col_get_mod_zscores(df, col_name))"
   ]
  },
  {
   "cell_type": "code",
   "execution_count": null,
   "metadata": {},
   "outputs": [],
   "source": [
    "# 4\n",
    "get_z_outliers(df, col_name)\n",
    "get_mod_outliers(df, col_name)"
   ]
  },
  {
   "cell_type": "code",
   "execution_count": null,
   "metadata": {},
   "outputs": [],
   "source": [
    "#5\n",
    "remove_z_outliers(df, col_name)\n",
    "remove_mod_outliers(df, col_name)"
   ]
  },
  {
   "cell_type": "code",
   "execution_count": null,
   "metadata": {},
   "outputs": [],
   "source": []
  }
 ],
 "metadata": {
  "kernelspec": {
   "display_name": "Python 3",
   "language": "python",
   "name": "python3"
  },
  "language_info": {
   "codemirror_mode": {
    "name": "ipython",
    "version": 3
   },
   "file_extension": ".py",
   "mimetype": "text/x-python",
   "name": "python",
   "nbconvert_exporter": "python",
   "pygments_lexer": "ipython3",
   "version": "3.7.1"
  },
  "name": "Char_Sandbox _01",
  "notebookId": 1771528210172162
 },
 "nbformat": 4,
 "nbformat_minor": 1
}
